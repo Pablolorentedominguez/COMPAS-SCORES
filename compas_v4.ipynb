{
 "cells": [
  {
   "cell_type": "markdown",
   "metadata": {},
   "source": [
    "## Caso Práctico \n",
    "\n",
    "Cada día es más frecuente la introducción de la ciencia de datos en el ámbito del derecho y la justicia.\n",
    "Un ejemplo bien conocido de ello es el sistema COMPAS (Correctional offender management profiling for\n",
    "alternative sanctions) que se usa en varios estados de los Estados Unidos para hacer una evaluación del riesgo de\n",
    "reincidencia de las personas detenidas.\n",
    "\n",
    "Una breve descripción del sistema puede verse en la página https://en.wikipedia.org/wiki/COMPAS_(software).\n",
    "\n",
    "En este caso, proporciona un conjunto de datos en bruto con información de las evaluaciones\n",
    "(fichero compas-scores.csv) y la historia legal de unos 11 000 casos en los años 2013 y 2014\n",
    "(se trata de uno de los ficheros originales utilizados en un análisis independiente del sistema\n",
    "COMPAS llevado a cabo por ProPublica, disponible en internet).\n",
    "\n",
    "Aunque el conjunto de datos contiene información adicional, para resolver las cuestiones planteadas en este caso\n",
    "son necesarios (aparte de algunos campos cuyo nombre es autoexplicativo) los siguientes campos:\n",
    "\n",
    "+ “compas_screening_date”: se refiere a la fecha en la que se realizó la evaluación\n",
    "\n",
    "+ “decile_score”: es un número, de 1 a 10 que indica el riesgo de reincidencia en general (a mayor riesgo, mayor número).\n",
    "\n",
    "+ “v_decile_score”: es un número de 1 a 10, potencialmente distinto del anterior, que indica el riesgo de reincidencia en delitos violentos. Al hacer la evaluación de un caso en COMPAS, se generan las dos puntuaciones (entre otras cosas).\n",
    "\n",
    "+ “is_recid”: indicación de si la persona es reincidente (en el tiempo en que se recogen datos: no hay información de si la persona es reincidente más allá de ciertas fechas, y es importante tener esto en cuenta para asegurarse de hacer comparaciones homogéneas).\n",
    "\n",
    "+ “r_offense_date”: fecha en la que se cometió el delito por el que se considera reincidente a la persona.\n",
    "\n",
    "+ “is_violent_recid”: indicación de si la persona es reincidente en un delito con violencia (las mismas consideraciones sobre fechas que para “is_recid” aplican aquí)\".\n",
    "\n",
    "+ “vr_offense_date”: fecha en la que se cometió el delito violento que da lugar a la consideración de reincidente."
   ]
  },
  {
   "cell_type": "markdown",
   "metadata": {},
   "source": [
    "## Se pide"
   ]
  },
  {
   "cell_type": "markdown",
   "metadata": {},
   "source": [
    "### 1. Cargar los datos y realizar un análisis exploratorio y una evaluación de la calidad de los datos necesarios para el resto del caso. Específicamente, evaluar la integridad, validez y actualidad de los datos y proponer estrategias de mitigación de los posibles problemas encontrados. "
   ]
  },
  {
   "cell_type": "code",
   "execution_count": 1,
   "metadata": {},
   "outputs": [],
   "source": [
    "import pandas as pd\n",
    "import numpy as np\n",
    "import seaborn as sns\n",
    "\n",
    "# from sklearn import datasets # éste no hace falta"
   ]
  },
  {
   "cell_type": "code",
   "execution_count": 2,
   "metadata": {},
   "outputs": [],
   "source": [
    "df = pd.read_csv('compas-scores.csv')"
   ]
  },
  {
   "cell_type": "markdown",
   "metadata": {},
   "source": [
    "Como dice el enunciado que solo se necesitan los campos\n",
    "\n",
    "“compas_screening_date”: se refiere a la fecha en la que se realizó la evaluación\n",
    "\n",
    "“decile_score”: es un número, de 1 a 10 que indica el riesgo de reincidencia en general (a mayor riesgo, mayor número).\n",
    "\n",
    "“v_decile_score”: es un número de 1 a 10, potencialmente distinto del anterior, que indica el riesgo de reincidencia en delitos violentos. Al hacer la evaluación de un caso en COMPAS, se generan las dos puntuaciones (entre otras cosas).\n",
    "\n",
    "“is_recid”: indicación de si la persona es reincidente (en el tiempo en que se recogen datos: no hay información de si la persona es reincidente más allá de ciertas fechas, y es importante tener esto en cuenta para asegurarse de hacer comparaciones homogéneas).\n",
    "\n",
    "“r_offense_date”: fecha en la que se cometió el delito por el que se considera reincidente a la persona.\n",
    "\n",
    "“is_violent_recid”: indicación de si la persona es reincidente en un delito con violencia (las mismas consideraciones sobre fechas que para “is_recid” aplican aquí)\".\n",
    "\n",
    "“vr_offense_date”: fecha en la que se cometió el delito violento que da lugar a la consideración de reincidente.\n",
    "\n",
    "así que eliminaremos el resto, salvo 'name', 'age', 'sex' y 'race', que nos servirán para identificar al individuo\n",
    "\n",
    "\n",
    "También voy a mantener 'priors_count', que indica el número de detenciones previas, y después veremos que es\n",
    "una variable útil para predecir el riesgo."
   ]
  },
  {
   "cell_type": "code",
   "execution_count": 3,
   "metadata": {},
   "outputs": [],
   "source": [
    "df_reducido = df[['name', 'age', 'sex', 'race', 'compas_screening_date', 'decile_score', 'v_decile_score', 'is_recid', 'r_offense_date', 'is_violent_recid', 'vr_offense_date', 'priors_count' \n",
    " ]].copy()"
   ]
  },
  {
   "cell_type": "markdown",
   "metadata": {},
   "source": [
    "vamos a echarle un vistazo por encima al dataframe:"
   ]
  },
  {
   "cell_type": "code",
   "execution_count": 4,
   "metadata": {},
   "outputs": [
    {
     "data": {
      "text/html": [
       "<div>\n",
       "<style scoped>\n",
       "    .dataframe tbody tr th:only-of-type {\n",
       "        vertical-align: middle;\n",
       "    }\n",
       "\n",
       "    .dataframe tbody tr th {\n",
       "        vertical-align: top;\n",
       "    }\n",
       "\n",
       "    .dataframe thead th {\n",
       "        text-align: right;\n",
       "    }\n",
       "</style>\n",
       "<table border=\"1\" class=\"dataframe\">\n",
       "  <thead>\n",
       "    <tr style=\"text-align: right;\">\n",
       "      <th></th>\n",
       "      <th>name</th>\n",
       "      <th>age</th>\n",
       "      <th>sex</th>\n",
       "      <th>race</th>\n",
       "      <th>compas_screening_date</th>\n",
       "      <th>decile_score</th>\n",
       "      <th>v_decile_score</th>\n",
       "      <th>is_recid</th>\n",
       "      <th>r_offense_date</th>\n",
       "      <th>is_violent_recid</th>\n",
       "      <th>vr_offense_date</th>\n",
       "      <th>priors_count</th>\n",
       "    </tr>\n",
       "  </thead>\n",
       "  <tbody>\n",
       "    <tr>\n",
       "      <th>0</th>\n",
       "      <td>miguel hernandez</td>\n",
       "      <td>69</td>\n",
       "      <td>Male</td>\n",
       "      <td>Other</td>\n",
       "      <td>2013-08-14</td>\n",
       "      <td>1</td>\n",
       "      <td>1</td>\n",
       "      <td>0</td>\n",
       "      <td>NaN</td>\n",
       "      <td>0</td>\n",
       "      <td>NaN</td>\n",
       "      <td>0</td>\n",
       "    </tr>\n",
       "    <tr>\n",
       "      <th>1</th>\n",
       "      <td>michael ryan</td>\n",
       "      <td>31</td>\n",
       "      <td>Male</td>\n",
       "      <td>Caucasian</td>\n",
       "      <td>2014-12-31</td>\n",
       "      <td>5</td>\n",
       "      <td>2</td>\n",
       "      <td>-1</td>\n",
       "      <td>NaN</td>\n",
       "      <td>0</td>\n",
       "      <td>NaN</td>\n",
       "      <td>0</td>\n",
       "    </tr>\n",
       "    <tr>\n",
       "      <th>2</th>\n",
       "      <td>kevon dixon</td>\n",
       "      <td>34</td>\n",
       "      <td>Male</td>\n",
       "      <td>African-American</td>\n",
       "      <td>2013-01-27</td>\n",
       "      <td>3</td>\n",
       "      <td>1</td>\n",
       "      <td>1</td>\n",
       "      <td>2013-07-05</td>\n",
       "      <td>1</td>\n",
       "      <td>2013-07-05</td>\n",
       "      <td>0</td>\n",
       "    </tr>\n",
       "    <tr>\n",
       "      <th>3</th>\n",
       "      <td>ed philo</td>\n",
       "      <td>24</td>\n",
       "      <td>Male</td>\n",
       "      <td>African-American</td>\n",
       "      <td>2013-04-14</td>\n",
       "      <td>4</td>\n",
       "      <td>3</td>\n",
       "      <td>1</td>\n",
       "      <td>2013-06-16</td>\n",
       "      <td>0</td>\n",
       "      <td>NaN</td>\n",
       "      <td>4</td>\n",
       "    </tr>\n",
       "    <tr>\n",
       "      <th>4</th>\n",
       "      <td>marcu brown</td>\n",
       "      <td>23</td>\n",
       "      <td>Male</td>\n",
       "      <td>African-American</td>\n",
       "      <td>2013-01-13</td>\n",
       "      <td>8</td>\n",
       "      <td>6</td>\n",
       "      <td>0</td>\n",
       "      <td>NaN</td>\n",
       "      <td>0</td>\n",
       "      <td>NaN</td>\n",
       "      <td>1</td>\n",
       "    </tr>\n",
       "  </tbody>\n",
       "</table>\n",
       "</div>"
      ],
      "text/plain": [
       "               name  age   sex              race compas_screening_date  \\\n",
       "0  miguel hernandez   69  Male             Other            2013-08-14   \n",
       "1      michael ryan   31  Male         Caucasian            2014-12-31   \n",
       "2       kevon dixon   34  Male  African-American            2013-01-27   \n",
       "3          ed philo   24  Male  African-American            2013-04-14   \n",
       "4       marcu brown   23  Male  African-American            2013-01-13   \n",
       "\n",
       "   decile_score  v_decile_score  is_recid r_offense_date  is_violent_recid  \\\n",
       "0             1               1         0            NaN                 0   \n",
       "1             5               2        -1            NaN                 0   \n",
       "2             3               1         1     2013-07-05                 1   \n",
       "3             4               3         1     2013-06-16                 0   \n",
       "4             8               6         0            NaN                 0   \n",
       "\n",
       "  vr_offense_date  priors_count  \n",
       "0             NaN             0  \n",
       "1             NaN             0  \n",
       "2      2013-07-05             0  \n",
       "3             NaN             4  \n",
       "4             NaN             1  "
      ]
     },
     "execution_count": 4,
     "metadata": {},
     "output_type": "execute_result"
    }
   ],
   "source": [
    "df_reducido.head() # vemos que tiene pocas columnas: es más cómodo trabajar así"
   ]
  },
  {
   "cell_type": "code",
   "execution_count": 5,
   "metadata": {},
   "outputs": [
    {
     "name": "stdout",
     "output_type": "stream",
     "text": [
      "<class 'pandas.core.frame.DataFrame'>\n",
      "RangeIndex: 11757 entries, 0 to 11756\n",
      "Data columns (total 12 columns):\n",
      " #   Column                 Non-Null Count  Dtype \n",
      "---  ------                 --------------  ----- \n",
      " 0   name                   11757 non-null  object\n",
      " 1   age                    11757 non-null  int64 \n",
      " 2   sex                    11757 non-null  object\n",
      " 3   race                   11757 non-null  object\n",
      " 4   compas_screening_date  11757 non-null  object\n",
      " 5   decile_score           11757 non-null  int64 \n",
      " 6   v_decile_score         11757 non-null  int64 \n",
      " 7   is_recid               11757 non-null  int64 \n",
      " 8   r_offense_date         3703 non-null   object\n",
      " 9   is_violent_recid       11757 non-null  int64 \n",
      " 10  vr_offense_date        882 non-null    object\n",
      " 11  priors_count           11757 non-null  int64 \n",
      "dtypes: int64(6), object(6)\n",
      "memory usage: 1.1+ MB\n"
     ]
    }
   ],
   "source": [
    "df_reducido.info()"
   ]
  },
  {
   "cell_type": "code",
   "execution_count": 6,
   "metadata": {},
   "outputs": [
    {
     "data": {
      "text/plain": [
       "name                     11584\n",
       "age                         66\n",
       "sex                          2\n",
       "race                         6\n",
       "compas_screening_date      704\n",
       "decile_score                11\n",
       "v_decile_score              11\n",
       "is_recid                     3\n",
       "r_offense_date            1090\n",
       "is_violent_recid             2\n",
       "vr_offense_date            599\n",
       "priors_count                39\n",
       "dtype: int64"
      ]
     },
     "execution_count": 6,
     "metadata": {},
     "output_type": "execute_result"
    }
   ],
   "source": [
    "df_reducido.nunique()"
   ]
  },
  {
   "cell_type": "markdown",
   "metadata": {},
   "source": [
    "# Análisis:\n",
    " \n",
    "\n",
    "\n",
    "Vamos a echarle un vistazo más despacito a las cosas que llaman la atención. La primera es que 'is_recid' tome TRES valores 0, 1 y -1. El 0 supongo que significa que no es reincidente y el 1 que sí lo es; pero el '-1' ¿qué significa? En la página 17 de esta publicación:\n",
    " \n",
    "https://arxiv.org/pdf/1906.04711.pdf\n",
    " \n",
    "se dice:\n",
    " \n",
    "\"Additionally, ProPublica also dropped 719 people who did not appear to have good data. ProPublica could not find case/arrest information on these people. ProPublica tagged these as “is_recid = -1” in the full dataset.\"\n",
    " \n",
    "Es decir, 'is_recid = -1' significa que los datos de ese individuo son incompletos o poco fiables. Por esa razón, ProPublica\n",
    " \n",
    "https://www.propublica.org\n",
    " \n",
    "los excluye del análisis y nosotros vamos a hacer lo mismo\n",
    "\n"
   ]
  },
  {
   "cell_type": "code",
   "execution_count": 7,
   "metadata": {},
   "outputs": [
    {
     "data": {
      "text/plain": [
       "False    11038\n",
       "True       719\n",
       "Name: is_recid, dtype: int64"
      ]
     },
     "execution_count": 7,
     "metadata": {},
     "output_type": "execute_result"
    }
   ],
   "source": [
    "(df_reducido.is_recid == -1).value_counts() # contamos el número de elementos (len) donde df.is_recid == -1"
   ]
  },
  {
   "cell_type": "code",
   "execution_count": 8,
   "metadata": {},
   "outputs": [],
   "source": [
    "# vemos que hay 719 que son -1, lo que coincide con lo que dice la publicación citada previamente\n",
    "# vamos a eliminarlos\n",
    "\n",
    "#df_reducido = df_reducido[df_reducido.is_recid != -1] # solo conservo los valores del dataframe para los \n",
    "# que 'is_recid' es distinto (!=) de -1\n",
    "\n",
    "df_reducido.drop(df_reducido[df_reducido.is_recid == -1].index, inplace=True)"
   ]
  },
  {
   "cell_type": "code",
   "execution_count": 9,
   "metadata": {},
   "outputs": [
    {
     "data": {
      "text/plain": [
       "name                     10902\n",
       "age                         66\n",
       "sex                          2\n",
       "race                         6\n",
       "compas_screening_date      704\n",
       "decile_score                11\n",
       "v_decile_score              11\n",
       "is_recid                     2\n",
       "r_offense_date            1090\n",
       "is_violent_recid             2\n",
       "vr_offense_date            599\n",
       "priors_count                39\n",
       "dtype: int64"
      ]
     },
     "execution_count": 9,
     "metadata": {},
     "output_type": "execute_result"
    }
   ],
   "source": [
    "df_reducido.nunique() # para comprobar si lo ha hecho bien"
   ]
  },
  {
   "cell_type": "code",
   "execution_count": 10,
   "metadata": {},
   "outputs": [
    {
     "data": {
      "text/plain": [
       "array([0], dtype=int64)"
      ]
     },
     "execution_count": 10,
     "metadata": {},
     "output_type": "execute_result"
    }
   ],
   "source": [
    "'''\n",
    "lo siguiente es comprobar si los valores 'NaT' que aparecen en 'r_offense_date' 'vr_offense_date' se corresponden\n",
    "realmente con 'no reincidentes'. Es decir, cada vez que aparezca un 'NaT', 'is_recid' o 'is_violent_recid' \n",
    "(el que corresponda) deben ser cero \n",
    "\n",
    "Para ello miro los elementos 'únicos' que tiene 'is_recid' cuando 'r_offense_date' es 'NaT', lo que para Python\n",
    "es un valor 'null'\n",
    "'''\n",
    "\n",
    "df_reducido.is_recid[df_reducido.r_offense_date.isnull()].unique()"
   ]
  },
  {
   "cell_type": "code",
   "execution_count": 11,
   "metadata": {},
   "outputs": [
    {
     "data": {
      "text/plain": [
       "array([0], dtype=int64)"
      ]
     },
     "execution_count": 11,
     "metadata": {},
     "output_type": "execute_result"
    }
   ],
   "source": [
    "# vemos que 'is_recid' es siempre cero, lo que confirma la hipótesis. Hacemos lo mismo para 'is_violent_recid'\n",
    "\n",
    "df_reducido.is_violent_recid[df_reducido.vr_offense_date.isnull()].unique()\n"
   ]
  },
  {
   "cell_type": "code",
   "execution_count": 12,
   "metadata": {},
   "outputs": [
    {
     "name": "stdout",
     "output_type": "stream",
     "text": [
      "<class 'pandas.core.frame.DataFrame'>\n",
      "Int64Index: 11038 entries, 0 to 11756\n",
      "Data columns (total 12 columns):\n",
      " #   Column                 Non-Null Count  Dtype \n",
      "---  ------                 --------------  ----- \n",
      " 0   name                   11038 non-null  object\n",
      " 1   age                    11038 non-null  int64 \n",
      " 2   sex                    11038 non-null  object\n",
      " 3   race                   11038 non-null  object\n",
      " 4   compas_screening_date  11038 non-null  object\n",
      " 5   decile_score           11038 non-null  int64 \n",
      " 6   v_decile_score         11038 non-null  int64 \n",
      " 7   is_recid               11038 non-null  int64 \n",
      " 8   r_offense_date         3703 non-null   object\n",
      " 9   is_violent_recid       11038 non-null  int64 \n",
      " 10  vr_offense_date        882 non-null    object\n",
      " 11  priors_count           11038 non-null  int64 \n",
      "dtypes: int64(6), object(6)\n",
      "memory usage: 1.1+ MB\n"
     ]
    }
   ],
   "source": [
    "# Perfecto. Parece que los datos no tienen inconsistencias.\n",
    "\n",
    "# Vamos de todas formas a echarles un nuevo vistazo\n",
    "\n",
    "df_reducido.info()"
   ]
  },
  {
   "cell_type": "code",
   "execution_count": 13,
   "metadata": {},
   "outputs": [
    {
     "data": {
      "text/plain": [
       "name                     10902\n",
       "age                         66\n",
       "sex                          2\n",
       "race                         6\n",
       "compas_screening_date      704\n",
       "decile_score                11\n",
       "v_decile_score              11\n",
       "is_recid                     2\n",
       "r_offense_date            1090\n",
       "is_violent_recid             2\n",
       "vr_offense_date            599\n",
       "priors_count                39\n",
       "dtype: int64"
      ]
     },
     "execution_count": 13,
     "metadata": {},
     "output_type": "execute_result"
    }
   ],
   "source": [
    "df_reducido.nunique()"
   ]
  },
  {
   "cell_type": "code",
   "execution_count": 14,
   "metadata": {},
   "outputs": [
    {
     "data": {
      "text/html": [
       "<div>\n",
       "<style scoped>\n",
       "    .dataframe tbody tr th:only-of-type {\n",
       "        vertical-align: middle;\n",
       "    }\n",
       "\n",
       "    .dataframe tbody tr th {\n",
       "        vertical-align: top;\n",
       "    }\n",
       "\n",
       "    .dataframe thead th {\n",
       "        text-align: right;\n",
       "    }\n",
       "</style>\n",
       "<table border=\"1\" class=\"dataframe\">\n",
       "  <thead>\n",
       "    <tr style=\"text-align: right;\">\n",
       "      <th></th>\n",
       "      <th>name</th>\n",
       "      <th>age</th>\n",
       "      <th>sex</th>\n",
       "      <th>race</th>\n",
       "      <th>compas_screening_date</th>\n",
       "      <th>decile_score</th>\n",
       "      <th>v_decile_score</th>\n",
       "      <th>is_recid</th>\n",
       "      <th>r_offense_date</th>\n",
       "      <th>is_violent_recid</th>\n",
       "      <th>vr_offense_date</th>\n",
       "      <th>priors_count</th>\n",
       "    </tr>\n",
       "  </thead>\n",
       "  <tbody>\n",
       "    <tr>\n",
       "      <th>7707</th>\n",
       "      <td>jeffrey williams</td>\n",
       "      <td>28</td>\n",
       "      <td>Male</td>\n",
       "      <td>African-American</td>\n",
       "      <td>2013-04-16</td>\n",
       "      <td>6</td>\n",
       "      <td>6</td>\n",
       "      <td>0</td>\n",
       "      <td>NaN</td>\n",
       "      <td>0</td>\n",
       "      <td>NaN</td>\n",
       "      <td>6</td>\n",
       "    </tr>\n",
       "    <tr>\n",
       "      <th>10164</th>\n",
       "      <td>jeffrey williams</td>\n",
       "      <td>28</td>\n",
       "      <td>Male</td>\n",
       "      <td>African-American</td>\n",
       "      <td>2014-06-25</td>\n",
       "      <td>2</td>\n",
       "      <td>2</td>\n",
       "      <td>1</td>\n",
       "      <td>2014-09-19</td>\n",
       "      <td>0</td>\n",
       "      <td>NaN</td>\n",
       "      <td>5</td>\n",
       "    </tr>\n",
       "    <tr>\n",
       "      <th>1004</th>\n",
       "      <td>john brown</td>\n",
       "      <td>65</td>\n",
       "      <td>Male</td>\n",
       "      <td>African-American</td>\n",
       "      <td>2014-04-11</td>\n",
       "      <td>2</td>\n",
       "      <td>1</td>\n",
       "      <td>1</td>\n",
       "      <td>2015-09-04</td>\n",
       "      <td>1</td>\n",
       "      <td>2015-09-04</td>\n",
       "      <td>2</td>\n",
       "    </tr>\n",
       "    <tr>\n",
       "      <th>11713</th>\n",
       "      <td>john brown</td>\n",
       "      <td>65</td>\n",
       "      <td>Male</td>\n",
       "      <td>African-American</td>\n",
       "      <td>2013-09-23</td>\n",
       "      <td>1</td>\n",
       "      <td>1</td>\n",
       "      <td>0</td>\n",
       "      <td>NaN</td>\n",
       "      <td>0</td>\n",
       "      <td>NaN</td>\n",
       "      <td>1</td>\n",
       "    </tr>\n",
       "    <tr>\n",
       "      <th>949</th>\n",
       "      <td>michael williams</td>\n",
       "      <td>23</td>\n",
       "      <td>Male</td>\n",
       "      <td>African-American</td>\n",
       "      <td>2013-05-24</td>\n",
       "      <td>10</td>\n",
       "      <td>8</td>\n",
       "      <td>0</td>\n",
       "      <td>NaN</td>\n",
       "      <td>0</td>\n",
       "      <td>NaN</td>\n",
       "      <td>4</td>\n",
       "    </tr>\n",
       "    <tr>\n",
       "      <th>10537</th>\n",
       "      <td>michael williams</td>\n",
       "      <td>23</td>\n",
       "      <td>Male</td>\n",
       "      <td>African-American</td>\n",
       "      <td>2013-01-26</td>\n",
       "      <td>6</td>\n",
       "      <td>6</td>\n",
       "      <td>0</td>\n",
       "      <td>NaN</td>\n",
       "      <td>0</td>\n",
       "      <td>NaN</td>\n",
       "      <td>1</td>\n",
       "    </tr>\n",
       "    <tr>\n",
       "      <th>3491</th>\n",
       "      <td>roderick thomas</td>\n",
       "      <td>23</td>\n",
       "      <td>Male</td>\n",
       "      <td>African-American</td>\n",
       "      <td>2014-03-10</td>\n",
       "      <td>7</td>\n",
       "      <td>5</td>\n",
       "      <td>0</td>\n",
       "      <td>NaN</td>\n",
       "      <td>0</td>\n",
       "      <td>NaN</td>\n",
       "      <td>3</td>\n",
       "    </tr>\n",
       "    <tr>\n",
       "      <th>7476</th>\n",
       "      <td>roderick thomas</td>\n",
       "      <td>23</td>\n",
       "      <td>Male</td>\n",
       "      <td>African-American</td>\n",
       "      <td>2013-02-12</td>\n",
       "      <td>8</td>\n",
       "      <td>5</td>\n",
       "      <td>0</td>\n",
       "      <td>NaN</td>\n",
       "      <td>0</td>\n",
       "      <td>NaN</td>\n",
       "      <td>1</td>\n",
       "    </tr>\n",
       "    <tr>\n",
       "      <th>112</th>\n",
       "      <td>troy smith</td>\n",
       "      <td>22</td>\n",
       "      <td>Male</td>\n",
       "      <td>African-American</td>\n",
       "      <td>2013-08-25</td>\n",
       "      <td>3</td>\n",
       "      <td>3</td>\n",
       "      <td>1</td>\n",
       "      <td>2014-10-06</td>\n",
       "      <td>0</td>\n",
       "      <td>NaN</td>\n",
       "      <td>1</td>\n",
       "    </tr>\n",
       "    <tr>\n",
       "      <th>2022</th>\n",
       "      <td>troy smith</td>\n",
       "      <td>22</td>\n",
       "      <td>Male</td>\n",
       "      <td>African-American</td>\n",
       "      <td>2013-03-22</td>\n",
       "      <td>7</td>\n",
       "      <td>6</td>\n",
       "      <td>0</td>\n",
       "      <td>NaN</td>\n",
       "      <td>0</td>\n",
       "      <td>NaN</td>\n",
       "      <td>4</td>\n",
       "    </tr>\n",
       "  </tbody>\n",
       "</table>\n",
       "</div>"
      ],
      "text/plain": [
       "                   name  age   sex              race compas_screening_date  \\\n",
       "7707   jeffrey williams   28  Male  African-American            2013-04-16   \n",
       "10164  jeffrey williams   28  Male  African-American            2014-06-25   \n",
       "1004         john brown   65  Male  African-American            2014-04-11   \n",
       "11713        john brown   65  Male  African-American            2013-09-23   \n",
       "949    michael williams   23  Male  African-American            2013-05-24   \n",
       "10537  michael williams   23  Male  African-American            2013-01-26   \n",
       "3491    roderick thomas   23  Male  African-American            2014-03-10   \n",
       "7476    roderick thomas   23  Male  African-American            2013-02-12   \n",
       "112          troy smith   22  Male  African-American            2013-08-25   \n",
       "2022         troy smith   22  Male  African-American            2013-03-22   \n",
       "\n",
       "       decile_score  v_decile_score  is_recid r_offense_date  \\\n",
       "7707              6               6         0            NaN   \n",
       "10164             2               2         1     2014-09-19   \n",
       "1004              2               1         1     2015-09-04   \n",
       "11713             1               1         0            NaN   \n",
       "949              10               8         0            NaN   \n",
       "10537             6               6         0            NaN   \n",
       "3491              7               5         0            NaN   \n",
       "7476              8               5         0            NaN   \n",
       "112               3               3         1     2014-10-06   \n",
       "2022              7               6         0            NaN   \n",
       "\n",
       "       is_violent_recid vr_offense_date  priors_count  \n",
       "7707                  0             NaN             6  \n",
       "10164                 0             NaN             5  \n",
       "1004                  1      2015-09-04             2  \n",
       "11713                 0             NaN             1  \n",
       "949                   0             NaN             4  \n",
       "10537                 0             NaN             1  \n",
       "3491                  0             NaN             3  \n",
       "7476                  0             NaN             1  \n",
       "112                   0             NaN             1  \n",
       "2022                  0             NaN             4  "
      ]
     },
     "execution_count": 14,
     "metadata": {},
     "output_type": "execute_result"
    }
   ],
   "source": [
    "# el dataframe tiene 11038 filas; pero solo hay 10902 nombres distintos. Esto quiere decir que hay nombres \n",
    "# repetidos. A priori, no tiene nada de extraño. No obstante, pudiera ocurrir que algunas de esas personas\n",
    "# sean, en realidad, la misma. Vamos a echarle un vistazo al tema\n",
    "\n",
    "df_reducido[df_reducido.duplicated(['name', 'age'], keep=False)].sort_values(by = 'name')"
   ]
  },
  {
   "cell_type": "code",
   "execution_count": 15,
   "metadata": {},
   "outputs": [
    {
     "data": {
      "text/html": [
       "<div>\n",
       "<style scoped>\n",
       "    .dataframe tbody tr th:only-of-type {\n",
       "        vertical-align: middle;\n",
       "    }\n",
       "\n",
       "    .dataframe tbody tr th {\n",
       "        vertical-align: top;\n",
       "    }\n",
       "\n",
       "    .dataframe thead th {\n",
       "        text-align: right;\n",
       "    }\n",
       "</style>\n",
       "<table border=\"1\" class=\"dataframe\">\n",
       "  <thead>\n",
       "    <tr style=\"text-align: right;\">\n",
       "      <th></th>\n",
       "      <th>name</th>\n",
       "      <th>age</th>\n",
       "      <th>sex</th>\n",
       "      <th>race</th>\n",
       "      <th>compas_screening_date</th>\n",
       "      <th>decile_score</th>\n",
       "      <th>v_decile_score</th>\n",
       "      <th>is_recid</th>\n",
       "      <th>r_offense_date</th>\n",
       "      <th>is_violent_recid</th>\n",
       "      <th>vr_offense_date</th>\n",
       "      <th>priors_count</th>\n",
       "    </tr>\n",
       "  </thead>\n",
       "  <tbody>\n",
       "    <tr>\n",
       "      <th>7707</th>\n",
       "      <td>jeffrey williams</td>\n",
       "      <td>28</td>\n",
       "      <td>Male</td>\n",
       "      <td>African-American</td>\n",
       "      <td>2013-04-16</td>\n",
       "      <td>6</td>\n",
       "      <td>6</td>\n",
       "      <td>0</td>\n",
       "      <td>NaN</td>\n",
       "      <td>0</td>\n",
       "      <td>NaN</td>\n",
       "      <td>6</td>\n",
       "    </tr>\n",
       "    <tr>\n",
       "      <th>10164</th>\n",
       "      <td>jeffrey williams</td>\n",
       "      <td>28</td>\n",
       "      <td>Male</td>\n",
       "      <td>African-American</td>\n",
       "      <td>2014-06-25</td>\n",
       "      <td>2</td>\n",
       "      <td>2</td>\n",
       "      <td>1</td>\n",
       "      <td>2014-09-19</td>\n",
       "      <td>0</td>\n",
       "      <td>NaN</td>\n",
       "      <td>5</td>\n",
       "    </tr>\n",
       "    <tr>\n",
       "      <th>1004</th>\n",
       "      <td>john brown</td>\n",
       "      <td>65</td>\n",
       "      <td>Male</td>\n",
       "      <td>African-American</td>\n",
       "      <td>2014-04-11</td>\n",
       "      <td>2</td>\n",
       "      <td>1</td>\n",
       "      <td>1</td>\n",
       "      <td>2015-09-04</td>\n",
       "      <td>1</td>\n",
       "      <td>2015-09-04</td>\n",
       "      <td>2</td>\n",
       "    </tr>\n",
       "    <tr>\n",
       "      <th>11713</th>\n",
       "      <td>john brown</td>\n",
       "      <td>65</td>\n",
       "      <td>Male</td>\n",
       "      <td>African-American</td>\n",
       "      <td>2013-09-23</td>\n",
       "      <td>1</td>\n",
       "      <td>1</td>\n",
       "      <td>0</td>\n",
       "      <td>NaN</td>\n",
       "      <td>0</td>\n",
       "      <td>NaN</td>\n",
       "      <td>1</td>\n",
       "    </tr>\n",
       "    <tr>\n",
       "      <th>949</th>\n",
       "      <td>michael williams</td>\n",
       "      <td>23</td>\n",
       "      <td>Male</td>\n",
       "      <td>African-American</td>\n",
       "      <td>2013-05-24</td>\n",
       "      <td>10</td>\n",
       "      <td>8</td>\n",
       "      <td>0</td>\n",
       "      <td>NaN</td>\n",
       "      <td>0</td>\n",
       "      <td>NaN</td>\n",
       "      <td>4</td>\n",
       "    </tr>\n",
       "    <tr>\n",
       "      <th>10537</th>\n",
       "      <td>michael williams</td>\n",
       "      <td>23</td>\n",
       "      <td>Male</td>\n",
       "      <td>African-American</td>\n",
       "      <td>2013-01-26</td>\n",
       "      <td>6</td>\n",
       "      <td>6</td>\n",
       "      <td>0</td>\n",
       "      <td>NaN</td>\n",
       "      <td>0</td>\n",
       "      <td>NaN</td>\n",
       "      <td>1</td>\n",
       "    </tr>\n",
       "    <tr>\n",
       "      <th>3491</th>\n",
       "      <td>roderick thomas</td>\n",
       "      <td>23</td>\n",
       "      <td>Male</td>\n",
       "      <td>African-American</td>\n",
       "      <td>2014-03-10</td>\n",
       "      <td>7</td>\n",
       "      <td>5</td>\n",
       "      <td>0</td>\n",
       "      <td>NaN</td>\n",
       "      <td>0</td>\n",
       "      <td>NaN</td>\n",
       "      <td>3</td>\n",
       "    </tr>\n",
       "    <tr>\n",
       "      <th>7476</th>\n",
       "      <td>roderick thomas</td>\n",
       "      <td>23</td>\n",
       "      <td>Male</td>\n",
       "      <td>African-American</td>\n",
       "      <td>2013-02-12</td>\n",
       "      <td>8</td>\n",
       "      <td>5</td>\n",
       "      <td>0</td>\n",
       "      <td>NaN</td>\n",
       "      <td>0</td>\n",
       "      <td>NaN</td>\n",
       "      <td>1</td>\n",
       "    </tr>\n",
       "    <tr>\n",
       "      <th>112</th>\n",
       "      <td>troy smith</td>\n",
       "      <td>22</td>\n",
       "      <td>Male</td>\n",
       "      <td>African-American</td>\n",
       "      <td>2013-08-25</td>\n",
       "      <td>3</td>\n",
       "      <td>3</td>\n",
       "      <td>1</td>\n",
       "      <td>2014-10-06</td>\n",
       "      <td>0</td>\n",
       "      <td>NaN</td>\n",
       "      <td>1</td>\n",
       "    </tr>\n",
       "    <tr>\n",
       "      <th>2022</th>\n",
       "      <td>troy smith</td>\n",
       "      <td>22</td>\n",
       "      <td>Male</td>\n",
       "      <td>African-American</td>\n",
       "      <td>2013-03-22</td>\n",
       "      <td>7</td>\n",
       "      <td>6</td>\n",
       "      <td>0</td>\n",
       "      <td>NaN</td>\n",
       "      <td>0</td>\n",
       "      <td>NaN</td>\n",
       "      <td>4</td>\n",
       "    </tr>\n",
       "  </tbody>\n",
       "</table>\n",
       "</div>"
      ],
      "text/plain": [
       "                   name  age   sex              race compas_screening_date  \\\n",
       "7707   jeffrey williams   28  Male  African-American            2013-04-16   \n",
       "10164  jeffrey williams   28  Male  African-American            2014-06-25   \n",
       "1004         john brown   65  Male  African-American            2014-04-11   \n",
       "11713        john brown   65  Male  African-American            2013-09-23   \n",
       "949    michael williams   23  Male  African-American            2013-05-24   \n",
       "10537  michael williams   23  Male  African-American            2013-01-26   \n",
       "3491    roderick thomas   23  Male  African-American            2014-03-10   \n",
       "7476    roderick thomas   23  Male  African-American            2013-02-12   \n",
       "112          troy smith   22  Male  African-American            2013-08-25   \n",
       "2022         troy smith   22  Male  African-American            2013-03-22   \n",
       "\n",
       "       decile_score  v_decile_score  is_recid r_offense_date  \\\n",
       "7707              6               6         0            NaN   \n",
       "10164             2               2         1     2014-09-19   \n",
       "1004              2               1         1     2015-09-04   \n",
       "11713             1               1         0            NaN   \n",
       "949              10               8         0            NaN   \n",
       "10537             6               6         0            NaN   \n",
       "3491              7               5         0            NaN   \n",
       "7476              8               5         0            NaN   \n",
       "112               3               3         1     2014-10-06   \n",
       "2022              7               6         0            NaN   \n",
       "\n",
       "       is_violent_recid vr_offense_date  priors_count  \n",
       "7707                  0             NaN             6  \n",
       "10164                 0             NaN             5  \n",
       "1004                  1      2015-09-04             2  \n",
       "11713                 0             NaN             1  \n",
       "949                   0             NaN             4  \n",
       "10537                 0             NaN             1  \n",
       "3491                  0             NaN             3  \n",
       "7476                  0             NaN             1  \n",
       "112                   0             NaN             1  \n",
       "2022                  0             NaN             4  "
      ]
     },
     "execution_count": 15,
     "metadata": {},
     "output_type": "execute_result"
    }
   ],
   "source": [
    "# el dataframe tiene 11038 filas; pero solo hay 10902 nombres distintos. Esto quiere decir que hay nombres \n",
    "# repetidos. A priori, no tiene nada de extraño. No obstante, pudiera ocurrir que algunas de esas personas\n",
    "# sean, en realidad, la misma. Vamos a echarle un vistazo al tema\n",
    "\n",
    "df_reducido[df_reducido.duplicated(['name', 'age'], keep=False)].sort_values(by = 'name')\n",
    "\n",
    "# Vemos como resultado que solo hay 5 personas con el mismo nombre y edad. Podríamos mirar si \n",
    "# coincide la fecha de nacimiento en el dataframe original para afinar más; pero creo que no merece la pena\n",
    "# hacer nada: solo cinco posibles duplicados de 11038 registros no van a tener incidencia en los resultados\n",
    "# del análisis. Opto por no hacer nada con ellos."
   ]
  },
  {
   "cell_type": "code",
   "execution_count": 16,
   "metadata": {},
   "outputs": [],
   "source": [
    "# Finalmente, llevamos a cabo la conversión de tipos\n",
    "\n",
    "# Vemos que 'age', 'decile_score' y 'v_decile_score' se tratan como 'int64', es decir, como números. Esto es razonable. \n",
    "# \n",
    "# 'name' es 'object'. Esta categoría, aunque correcta, es demasiado general (una especie de cajón de sastre en el que cabe todo). Vamos a convertirla en 'string' (texto)\n",
    "# \n",
    "# Vemos que 'sex', 'race', 'is_recid' y 'is_violent_recid' son 'objects' también. Sin embargo, es razonable  convertirlas en 'category' (de hecho, he observado que al ejecutar este programa con otra versión de pandas se convierten a 'category' de forma automática). Llama la atención que 'is_violent_recid' toma dos valores: es reincidente o no lo es. Sin embargo, 'is_recid' toma TRES: después volveremos sobre esto \n",
    "# \n",
    "# 'compas_screening_date', 'r_offense_date' y 'vr_offense_date' también son 'objects'. Tenemos que decirle a Python que, en realidad, se trata de fechas ('datetime')\n",
    "# \n",
    "# Finalmente, vemos también que solo 'r_offense_date' y 'vr_offense_date' tienen valores 'null'. De hecho, a simple vista se aprecia que hay muchos 'NaN'. Esto tiene sentido: si la persona NO es reincidente, 'r_offense_date' y 'vr_offense_date' deben estar vacíos. Hay que comprobar que esto es así\n",
    "# \n",
    "# Hagamos todo eso:\n",
    "# \n",
    "\n",
    "\n",
    "# conversión de tipos\n",
    "df_reducido['name'] = df_reducido['name'].astype('string')\n",
    "df_reducido['sex'] = df_reducido['sex'].astype('category')\n",
    "df_reducido['race'] = df_reducido['race'].astype('category')\n",
    "df_reducido['is_recid'] = df_reducido['is_recid'].astype('category')\n",
    "#df_reducido['is_violent_recid'] = df_reducido['is_violent_recid'].astype('category')\n",
    "df_reducido['compas_screening_date'] = pd.to_datetime(df_reducido['compas_screening_date'])\n",
    "df_reducido['r_offense_date'] = pd.to_datetime(df_reducido['r_offense_date'])\n",
    "df_reducido['vr_offense_date'] = pd.to_datetime(df_reducido['vr_offense_date'])"
   ]
  },
  {
   "cell_type": "code",
   "execution_count": 17,
   "metadata": {},
   "outputs": [
    {
     "name": "stdout",
     "output_type": "stream",
     "text": [
      "<class 'pandas.core.frame.DataFrame'>\n",
      "Int64Index: 11038 entries, 0 to 11756\n",
      "Data columns (total 12 columns):\n",
      " #   Column                 Non-Null Count  Dtype         \n",
      "---  ------                 --------------  -----         \n",
      " 0   name                   11038 non-null  string        \n",
      " 1   age                    11038 non-null  int64         \n",
      " 2   sex                    11038 non-null  category      \n",
      " 3   race                   11038 non-null  category      \n",
      " 4   compas_screening_date  11038 non-null  datetime64[ns]\n",
      " 5   decile_score           11038 non-null  int64         \n",
      " 6   v_decile_score         11038 non-null  int64         \n",
      " 7   is_recid               11038 non-null  category      \n",
      " 8   r_offense_date         3703 non-null   datetime64[ns]\n",
      " 9   is_violent_recid       11038 non-null  int64         \n",
      " 10  vr_offense_date        882 non-null    datetime64[ns]\n",
      " 11  priors_count           11038 non-null  int64         \n",
      "dtypes: category(3), datetime64[ns](3), int64(5), string(1)\n",
      "memory usage: 895.1 KB\n"
     ]
    },
    {
     "data": {
      "text/html": [
       "<div>\n",
       "<style scoped>\n",
       "    .dataframe tbody tr th:only-of-type {\n",
       "        vertical-align: middle;\n",
       "    }\n",
       "\n",
       "    .dataframe tbody tr th {\n",
       "        vertical-align: top;\n",
       "    }\n",
       "\n",
       "    .dataframe thead th {\n",
       "        text-align: right;\n",
       "    }\n",
       "</style>\n",
       "<table border=\"1\" class=\"dataframe\">\n",
       "  <thead>\n",
       "    <tr style=\"text-align: right;\">\n",
       "      <th></th>\n",
       "      <th>name</th>\n",
       "      <th>age</th>\n",
       "      <th>sex</th>\n",
       "      <th>race</th>\n",
       "      <th>compas_screening_date</th>\n",
       "      <th>decile_score</th>\n",
       "      <th>v_decile_score</th>\n",
       "      <th>is_recid</th>\n",
       "      <th>r_offense_date</th>\n",
       "      <th>is_violent_recid</th>\n",
       "      <th>vr_offense_date</th>\n",
       "      <th>priors_count</th>\n",
       "    </tr>\n",
       "  </thead>\n",
       "  <tbody>\n",
       "    <tr>\n",
       "      <th>0</th>\n",
       "      <td>miguel hernandez</td>\n",
       "      <td>69</td>\n",
       "      <td>Male</td>\n",
       "      <td>Other</td>\n",
       "      <td>2013-08-14</td>\n",
       "      <td>1</td>\n",
       "      <td>1</td>\n",
       "      <td>0</td>\n",
       "      <td>NaT</td>\n",
       "      <td>0</td>\n",
       "      <td>NaT</td>\n",
       "      <td>0</td>\n",
       "    </tr>\n",
       "    <tr>\n",
       "      <th>2</th>\n",
       "      <td>kevon dixon</td>\n",
       "      <td>34</td>\n",
       "      <td>Male</td>\n",
       "      <td>African-American</td>\n",
       "      <td>2013-01-27</td>\n",
       "      <td>3</td>\n",
       "      <td>1</td>\n",
       "      <td>1</td>\n",
       "      <td>2013-07-05</td>\n",
       "      <td>1</td>\n",
       "      <td>2013-07-05</td>\n",
       "      <td>0</td>\n",
       "    </tr>\n",
       "    <tr>\n",
       "      <th>3</th>\n",
       "      <td>ed philo</td>\n",
       "      <td>24</td>\n",
       "      <td>Male</td>\n",
       "      <td>African-American</td>\n",
       "      <td>2013-04-14</td>\n",
       "      <td>4</td>\n",
       "      <td>3</td>\n",
       "      <td>1</td>\n",
       "      <td>2013-06-16</td>\n",
       "      <td>0</td>\n",
       "      <td>NaT</td>\n",
       "      <td>4</td>\n",
       "    </tr>\n",
       "    <tr>\n",
       "      <th>4</th>\n",
       "      <td>marcu brown</td>\n",
       "      <td>23</td>\n",
       "      <td>Male</td>\n",
       "      <td>African-American</td>\n",
       "      <td>2013-01-13</td>\n",
       "      <td>8</td>\n",
       "      <td>6</td>\n",
       "      <td>0</td>\n",
       "      <td>NaT</td>\n",
       "      <td>0</td>\n",
       "      <td>NaT</td>\n",
       "      <td>1</td>\n",
       "    </tr>\n",
       "    <tr>\n",
       "      <th>5</th>\n",
       "      <td>bouthy pierrelouis</td>\n",
       "      <td>43</td>\n",
       "      <td>Male</td>\n",
       "      <td>Other</td>\n",
       "      <td>2013-03-26</td>\n",
       "      <td>1</td>\n",
       "      <td>1</td>\n",
       "      <td>0</td>\n",
       "      <td>NaT</td>\n",
       "      <td>0</td>\n",
       "      <td>NaT</td>\n",
       "      <td>2</td>\n",
       "    </tr>\n",
       "  </tbody>\n",
       "</table>\n",
       "</div>"
      ],
      "text/plain": [
       "                 name  age   sex              race compas_screening_date  \\\n",
       "0    miguel hernandez   69  Male             Other            2013-08-14   \n",
       "2         kevon dixon   34  Male  African-American            2013-01-27   \n",
       "3            ed philo   24  Male  African-American            2013-04-14   \n",
       "4         marcu brown   23  Male  African-American            2013-01-13   \n",
       "5  bouthy pierrelouis   43  Male             Other            2013-03-26   \n",
       "\n",
       "   decile_score  v_decile_score is_recid r_offense_date  is_violent_recid  \\\n",
       "0             1               1        0            NaT                 0   \n",
       "2             3               1        1     2013-07-05                 1   \n",
       "3             4               3        1     2013-06-16                 0   \n",
       "4             8               6        0            NaT                 0   \n",
       "5             1               1        0            NaT                 0   \n",
       "\n",
       "  vr_offense_date  priors_count  \n",
       "0             NaT             0  \n",
       "2      2013-07-05             0  \n",
       "3             NaT             4  \n",
       "4             NaT             1  \n",
       "5             NaT             2  "
      ]
     },
     "execution_count": 17,
     "metadata": {},
     "output_type": "execute_result"
    }
   ],
   "source": [
    "# veamos si lo ha hecho bien\n",
    "df_reducido.info()\n",
    "df_reducido.head()"
   ]
  },
  {
   "cell_type": "code",
   "execution_count": 18,
   "metadata": {},
   "outputs": [],
   "source": [
    "# Con esto acabamos el pre-procesado"
   ]
  },
  {
   "cell_type": "markdown",
   "metadata": {},
   "source": [
    "### 2. ¿Son los campos “is_recid” e “is_violent_recid” en este conjunto de datos adecuados para evaluar la precisión de las estimaciones de riesgo generadas por el sistema COMPAS? Si no es así, definir y calcular una feature que sí lo sea."
   ]
  },
  {
   "cell_type": "markdown",
   "metadata": {},
   "source": [
    "Las estimaciones de riesgo están en 'decile_score' y 'v_decile_score'. A mayor riesgo, mayor valor. Lo que nos preguntan es si conociendo cuánto valen 'is_recid'/'is_violent_recid' podemos predecir el valor que tomarán 'decile_score' y 'v_decile_score'. A priori, la hipótesis es que NO: si el sujeto NO es reincidente ('is_recid'/'is_violent_recid' = 0), cabe esperar que el riesgo sea bajo; sin embargo, cuando tenemos un reincidente ('is_recid'/'is_violent_recid' = 1), supongo que el riesgo puede ser cualquiera y no podemos anticiparlo. Vamos a comprobar si esta intuición es o no correcta"
   ]
  },
  {
   "cell_type": "code",
   "execution_count": 19,
   "metadata": {},
   "outputs": [
    {
     "data": {
      "text/html": [
       "<div>\n",
       "<style scoped>\n",
       "    .dataframe tbody tr th:only-of-type {\n",
       "        vertical-align: middle;\n",
       "    }\n",
       "\n",
       "    .dataframe tbody tr th {\n",
       "        vertical-align: top;\n",
       "    }\n",
       "\n",
       "    .dataframe thead th {\n",
       "        text-align: right;\n",
       "    }\n",
       "</style>\n",
       "<table border=\"1\" class=\"dataframe\">\n",
       "  <thead>\n",
       "    <tr style=\"text-align: right;\">\n",
       "      <th>real</th>\n",
       "      <th>False</th>\n",
       "      <th>True</th>\n",
       "    </tr>\n",
       "    <tr>\n",
       "      <th>prediccion</th>\n",
       "      <th></th>\n",
       "      <th></th>\n",
       "    </tr>\n",
       "  </thead>\n",
       "  <tbody>\n",
       "    <tr>\n",
       "      <th>False</th>\n",
       "      <td>5877</td>\n",
       "      <td>1458</td>\n",
       "    </tr>\n",
       "    <tr>\n",
       "      <th>True</th>\n",
       "      <td>2200</td>\n",
       "      <td>1503</td>\n",
       "    </tr>\n",
       "  </tbody>\n",
       "</table>\n",
       "</div>"
      ],
      "text/plain": [
       "real        False  True \n",
       "prediccion              \n",
       "False        5877   1458\n",
       "True         2200   1503"
      ]
     },
     "execution_count": 19,
     "metadata": {},
     "output_type": "execute_result"
    }
   ],
   "source": [
    "# Para ver que 'is_recid' predice más bien poco, vamos a hacer una tabla de contingencia en la que comprobaremos \n",
    "# si hay coincidencias de is_recid = 1 con decile_score >= 7:\n",
    "\n",
    "cm = pd.crosstab(df_reducido.is_recid==1, df_reducido.decile_score>=7, rownames=['prediccion'], colnames=['real'])\n",
    "cm"
   ]
  },
  {
   "cell_type": "code",
   "execution_count": 20,
   "metadata": {},
   "outputs": [],
   "source": [
    "'''\n",
    "cm resulta ser igual a\n",
    "\n",
    "real        False  True \n",
    "prediccion              \n",
    "False        5877   1458\n",
    "True         2200   1503\n",
    "\n",
    "Esto quiere decir que hay 5877 + 2200 = 8077 individuos con decile_score < 7 (no peligrosos) y 1458 + 1503 = 2961 con decile_score >= 7.  \n",
    "\n",
    "De los 8077 'no peligrosos', solo 5877 tienen 'is_recid'= 0. Los 2200 restantes tienen 'is_recid' = 1. Es decir, si nos fijamos \n",
    "únicamente en 'is_recid' estaríamos diciendo erróneamente que esos 2200 individuos son peligrosos y necesitan medidas de control. \n",
    "Es decir, tenemos 2200 falsos positivos.\n",
    "\n",
    "De los 2961 'peligrosos', 1458 tienen 'is_recid' = 0. Por ello, si de nuevo nos fijamos únicamente en 'is_recid' \n",
    "resultaría que estaríamos dejando ninguna supervisión a esos 1458 individuos.\n",
    "\n",
    "Nuestra tasa de acierto, en definitiva, es:\n",
    "    (5877 + 1503)/(5877 + 1503 + 2200 + 1458) = 0.67\n",
    "Es decir, si clasificamos como 'peligrosos' a los que tienen 'is_recid' = 1,  acertamos un 67 % de las veces.\n",
    "'''\n",
    "# Vamos a ver si mejoramos esto con un modelo de regresion. \n",
    "# Es decir, vamos a intentar predecir 'decile_score'\n",
    "# como una suma ponderada de priors_count, sex, race, is_recid y is_violent_recid\n",
    "\n",
    "from statsmodels.formula.api import ols\n",
    "\n",
    "#df_reducido = df_reducido[(df_reducido.is_recid == 1) & (df_reducido.decile_score >=  7)]"
   ]
  },
  {
   "cell_type": "code",
   "execution_count": 21,
   "metadata": {},
   "outputs": [
    {
     "name": "stdout",
     "output_type": "stream",
     "text": [
      "                            OLS Regression Results                            \n",
      "==============================================================================\n",
      "Dep. Variable:           decile_score   R-squared:                       0.417\n",
      "Model:                            OLS   Adj. R-squared:                  0.417\n",
      "Method:                 Least Squares   F-statistic:                     790.0\n",
      "Date:                Mon, 09 Aug 2021   Prob (F-statistic):               0.00\n",
      "Time:                        14:37:01   Log-Likelihood:                -24346.\n",
      "No. Observations:               11038   AIC:                         4.871e+04\n",
      "Df Residuals:                   11027   BIC:                         4.879e+04\n",
      "Df Model:                          10                                         \n",
      "Covariance Type:            nonrobust                                         \n",
      "==============================================================================================\n",
      "                                 coef    std err          t      P>|t|      [0.025      0.975]\n",
      "----------------------------------------------------------------------------------------------\n",
      "Intercept                      7.1746      0.081     89.095      0.000       7.017       7.332\n",
      "C(sex)[T.Male]                -0.0756      0.052     -1.441      0.149      -0.178       0.027\n",
      "C(race)[T.Asian]              -1.2429      0.304     -4.090      0.000      -1.839      -0.647\n",
      "C(race)[T.Caucasian]          -0.6781      0.048    -14.085      0.000      -0.772      -0.584\n",
      "C(race)[T.Hispanic]           -1.0803      0.076    -14.153      0.000      -1.230      -0.931\n",
      "C(race)[T.Native American]    -0.3822      0.368     -1.040      0.298      -1.103       0.338\n",
      "C(race)[T.Other]              -1.4816      0.094    -15.749      0.000      -1.666      -1.297\n",
      "C(is_recid)[T.1]               0.4953      0.051      9.750      0.000       0.396       0.595\n",
      "C(is_violent_recid)[T.1]       0.3768      0.085      4.442      0.000       0.211       0.543\n",
      "age                           -0.0954      0.002    -51.793      0.000      -0.099      -0.092\n",
      "priors_count                   0.2632      0.005     55.487      0.000       0.254       0.272\n",
      "==============================================================================\n",
      "Omnibus:                      456.387   Durbin-Watson:                   1.979\n",
      "Prob(Omnibus):                  0.000   Jarque-Bera (JB):              512.447\n",
      "Skew:                           0.524   Prob(JB):                    5.29e-112\n",
      "Kurtosis:                       2.882   Cond. No.                         654.\n",
      "==============================================================================\n",
      "\n",
      "Notes:\n",
      "[1] Standard Errors assume that the covariance matrix of the errors is correctly specified.\n"
     ]
    }
   ],
   "source": [
    "fit_decile_score = ols('decile_score ~ age + priors_count + C(sex) + C(race) + C(is_recid) + C(is_violent_recid)', data=df_reducido).fit() \n",
    "\n",
    "# hemos de escribir C() si la variable es categórica\n",
    "\n",
    "print(fit_decile_score.summary())"
   ]
  },
  {
   "cell_type": "code",
   "execution_count": 22,
   "metadata": {},
   "outputs": [
    {
     "data": {
      "text/plain": [
       "36"
      ]
     },
     "execution_count": 22,
     "metadata": {},
     "output_type": "execute_result"
    }
   ],
   "source": [
    "'''\n",
    "Lo importante es:\n",
    "\n",
    "R-squared: cuanto más cercano a 1, mejor es el modelo. Nos ha salido 0.417. No es para tirar cohetes, pero tampoco está mal del todo.\n",
    "coef: son los coeficientes A, B, C, ... En concreto, está diciendo que\n",
    "prediccion_decile_score = 0.2632 * priors_counts -0.0756 * male -1.2429  * asian -0.6781  caucasian + ... + 0.4953  * is_recid + ... + 7.1746 \n",
    "\n",
    "donde male, asian, caucasian, ... son variables que valen 1 o 0 y codifican el sexo, la raza, etc. \n",
    "'''\n",
    "\n",
    "# P > |t| : es una medida de la importancia que el modelo concede a la variable asociada. Cuanto mayor sea, peor. \n",
    "# En este caso se ve que, para el modelo, 'male' y 'native american' son poco relevantes. \n",
    "# Que el sexo ('male') cuenta poco ya se ve en que su coeficiente (-0.0756) es muy pequeño. Que 'native american' \n",
    "# también sea poco importante se debe a que hay muy poca gente de esa raza en la base de datos: solo hay 36, \n",
    "# como se calcula con el siguiente comando\n",
    "\n",
    "(df_reducido.race=='Native American').sum()"
   ]
  },
  {
   "cell_type": "code",
   "execution_count": 23,
   "metadata": {},
   "outputs": [],
   "source": [
    "# La explicación detallada de cómo funciona statsmodel está aquí:\n",
    "# https://www.efavdb.com/interpret-linear-regression"
   ]
  },
  {
   "cell_type": "markdown",
   "metadata": {},
   "source": [
    "### 3. El umbral para establecer medidas preventivas de la reincidencia es de 7 en adelante. Dado este umbral, generar una tabla de contingencia, explicando qué caso se considera como “positivo” (y, por lo tanto, cuáles son los errores de tipo I y los errores de tipo II)."
   ]
  },
  {
   "cell_type": "code",
   "execution_count": 24,
   "metadata": {},
   "outputs": [],
   "source": [
    "# con este comando se hace una predicción del valor de decile_score a partir de los que hemos indicado antes.\n",
    "prediccion = fit_decile_score.predict(df_reducido) "
   ]
  },
  {
   "cell_type": "code",
   "execution_count": 25,
   "metadata": {},
   "outputs": [
    {
     "data": {
      "text/html": [
       "<div>\n",
       "<style scoped>\n",
       "    .dataframe tbody tr th:only-of-type {\n",
       "        vertical-align: middle;\n",
       "    }\n",
       "\n",
       "    .dataframe tbody tr th {\n",
       "        vertical-align: top;\n",
       "    }\n",
       "\n",
       "    .dataframe thead th {\n",
       "        text-align: right;\n",
       "    }\n",
       "</style>\n",
       "<table border=\"1\" class=\"dataframe\">\n",
       "  <thead>\n",
       "    <tr style=\"text-align: right;\">\n",
       "      <th>real</th>\n",
       "      <th>False</th>\n",
       "      <th>True</th>\n",
       "    </tr>\n",
       "    <tr>\n",
       "      <th>prediccion</th>\n",
       "      <th></th>\n",
       "      <th></th>\n",
       "    </tr>\n",
       "  </thead>\n",
       "  <tbody>\n",
       "    <tr>\n",
       "      <th>False</th>\n",
       "      <td>7931</td>\n",
       "      <td>2306</td>\n",
       "    </tr>\n",
       "    <tr>\n",
       "      <th>True</th>\n",
       "      <td>146</td>\n",
       "      <td>655</td>\n",
       "    </tr>\n",
       "  </tbody>\n",
       "</table>\n",
       "</div>"
      ],
      "text/plain": [
       "real        False  True \n",
       "prediccion              \n",
       "False        7931   2306\n",
       "True          146    655"
      ]
     },
     "execution_count": 25,
     "metadata": {},
     "output_type": "execute_result"
    }
   ],
   "source": [
    "# generamos la tabla de contingencia, comparando los casos en los que se predice \n",
    "# un valor mayor que 7, con aquellos en los que realmente es mayor que 7\n",
    "cm = pd.crosstab(prediccion>=7, df_reducido.decile_score>=7, rownames=['prediccion'], colnames=['real'])\n",
    "cm"
   ]
  },
  {
   "cell_type": "code",
   "execution_count": 26,
   "metadata": {},
   "outputs": [
    {
     "name": "stdout",
     "output_type": "stream",
     "text": [
      "Accuracy:  0.777858307664432\n",
      "PPV:  0.8177278401997503\n",
      "FPR:  0.018076018323635014\n",
      "FNR:  0.7787909490037149\n",
      "\n"
     ]
    }
   ],
   "source": [
    "'''\n",
    "real        False  True \n",
    "prediccion              \n",
    "False        7931   2306\n",
    "True          146    655\n",
    "\n",
    "Quiere decir que en 7931 casos hemos predicho que decile_score era menor que 7\n",
    "y, efectivamente, se ha cumplido (verdaderos negativos). En 2306 pensábamos que sería \n",
    "menor que 7 pero hemos fallado en la predicción (falsos negativos).\n",
    "\n",
    "Por otra parte, en 655 casos hemos dicho que decile_score sería mayor que 7 y \n",
    "hemos acertado (verdaderos positivos).  \n",
    "\n",
    "En resumen, tenemos:\n",
    "    7931 verdaderos negativos (True negatives o TN)\n",
    "    655 verdaderos positivos (TP)\n",
    "    2306 falsos negativos (False neg. o FN)\n",
    "    146 falsos positivos (FP)\n",
    "'''\n",
    "\n",
    "TN = cm[False][False]   \n",
    "TP = cm[True][True]\n",
    "FN = cm[True][False]\n",
    "FP = cm[False][True]\n",
    "\n",
    "print('Accuracy: ', (TN+TP)/(TN+TP+FN+FP))\n",
    "print('PPV: ', TP / (TP + FP))\n",
    "print('FPR: ', FP / (FP + TN))\n",
    "print('FNR: ', FN / (FN + TP))\n",
    "print()"
   ]
  },
  {
   "cell_type": "code",
   "execution_count": 27,
   "metadata": {},
   "outputs": [
    {
     "name": "stdout",
     "output_type": "stream",
     "text": [
      "              precision    recall  f1-score   support\n",
      "\n",
      "       False       0.77      0.98      0.87      8077\n",
      "        True       0.82      0.22      0.35      2961\n",
      "\n",
      "    accuracy                           0.78     11038\n",
      "   macro avg       0.80      0.60      0.61     11038\n",
      "weighted avg       0.79      0.78      0.73     11038\n",
      "\n"
     ]
    }
   ],
   "source": [
    "from sklearn.metrics import classification_report\n",
    "\n",
    "print(classification_report(df_reducido.decile_score>=7, prediccion>=7))\n"
   ]
  },
  {
   "cell_type": "code",
   "execution_count": 28,
   "metadata": {},
   "outputs": [],
   "source": [
    "# Estos números básicamente coinciden con lo ya calculado\n",
    "\n",
    "# precision True = PPV = 0.82\n",
    "# recall False = TN / (TN + FP) = 1 - FPR = 0.98\n",
    "# precision False = TN / (TN + FN) = 0.74\n",
    "# recall True = FP / (TP + FP) =  1 - TP / (TP + FP) = 0.2"
   ]
  },
  {
   "cell_type": "markdown",
   "metadata": {},
   "source": [
    "### 4. El sistema asigna, de media, evaluaciones de riesgo más altas a los hombres que a las mujeres, y a las personas de raza afroamericana que a las de raza caucásica. Sin embargo, también las tasas de reincidencia son más altas para esos colectivos, aunque no está claro que la asignación de riesgo sea “justa” o no. Mostrar estas diferencias mediante representaciones gráficas y utilizarlas para analizar si la asignación de evaluaciones es justa o no."
   ]
  },
  {
   "cell_type": "code",
   "execution_count": 29,
   "metadata": {},
   "outputs": [],
   "source": [
    "#Se eliminan valores -1 de decile_score y v_decile_score para graficar\n",
    "df_reducido = df_reducido.drop(df_reducido[df_reducido['v_decile_score']==-1].index)\n",
    "df_reducido = df_reducido.drop(df_reducido[df_reducido['decile_score']==-1].index)"
   ]
  },
  {
   "cell_type": "code",
   "execution_count": 30,
   "metadata": {},
   "outputs": [
    {
     "data": {
      "image/png": "[encoded data removed]",
      "text/plain": [
       "<Figure size 1008x576 with 3 Axes>"
      ]
     },
     "metadata": {
      "needs_background": "light"
     },
     "output_type": "display_data"
    }
   ],
   "source": [
    "import matplotlib.pyplot as plt\n",
    "\n",
    "#RACE\n",
    "dfgb = df_reducido.groupby(\"race\")\n",
    "race_count = df_reducido.groupby(\"race\")[\"name\"].count()\n",
    "\n",
    "fig, ax = plt.subplots(3, figsize=(14, 8))\n",
    "\n",
    "for (i, race) in enumerate([\"African-American\", \"Caucasian\", \"Hispanic\"]):\n",
    "    (\n",
    "        (dfgb\n",
    "            .get_group(race)\n",
    "            .groupby(\"decile_score\")[\"name\"].count() / race_count[race]\n",
    "        )\n",
    "        .plot(kind=\"bar\", ax=ax[i], color=\"#353535\")\n",
    "    )\n",
    "    ax[i].set_ylabel(race)\n",
    "    ax[i].set_xlabel(\"\")\n",
    "   \n",
    "    ax[i].set_ylim(0, 0.32)\n",
    "\n",
    "fig.suptitle(\"Score Frequency by Race\")\n",
    "plt.show()"
   ]
  },
  {
   "cell_type": "code",
   "execution_count": 31,
   "metadata": {},
   "outputs": [],
   "source": [
    "# Como se puede ver en el gráfico, la distribucion en el decile score de las personas de raza negra se encuentra \n",
    "# uniformemente distribuida del 1 al 10, Mientras que para las demas razas, la gran mayoría de los casos se encuentran \n",
    "# en los valores mas bajos del decile_score."
   ]
  },
  {
   "cell_type": "code",
   "execution_count": 32,
   "metadata": {},
   "outputs": [
    {
     "data": {
      "image/png": "[encoded data removed]",
      "text/plain": [
       "<Figure size 1008x576 with 2 Axes>"
      ]
     },
     "metadata": {
      "needs_background": "light"
     },
     "output_type": "display_data"
    }
   ],
   "source": [
    "#Sex\n",
    "dfgb = df_reducido.groupby(\"sex\")\n",
    "race_count = df_reducido.groupby(\"sex\")[\"name\"].count()\n",
    "\n",
    "fig, ax = plt.subplots(2, figsize=(14, 8))\n",
    "\n",
    "for (i, sex) in enumerate([\"Male\", \"Female\"]):\n",
    "    (\n",
    "        (dfgb\n",
    "            .get_group(sex)\n",
    "            .groupby(\"decile_score\")[\"name\"].count() \n",
    "         #/ race_count[race]\n",
    "        )\n",
    "        .plot(kind=\"bar\", ax=ax[i], color=\"#353535\")\n",
    "    )\n",
    "    ax[i].set_ylabel(sex)\n",
    "    ax[i].set_xlabel(\"\")\n",
    "   \n",
    " #   ax[i].set_ylim(0, 0.)\n",
    "\n",
    "fig.suptitle(\"Score Frequency by Race\")\n",
    "plt.show()"
   ]
  },
  {
   "cell_type": "code",
   "execution_count": 33,
   "metadata": {},
   "outputs": [],
   "source": [
    "# Para el caso de las diferencias para hombres y mujeres se puede observar en la gráfica una tendencia\n",
    "# a que menos mujeres estan en lo mas alto del decile_score a diferencia de los hombres."
   ]
  },
  {
   "cell_type": "markdown",
   "metadata": {},
   "source": [
    "### 5. ¿Para qué tipo de riesgos, el de delitos generales o el de delitos violentos, tiene el sistema más capacidad predictiva?"
   ]
  },
  {
   "cell_type": "code",
   "execution_count": 34,
   "metadata": {},
   "outputs": [
    {
     "name": "stdout",
     "output_type": "stream",
     "text": [
      "                            OLS Regression Results                            \n",
      "==============================================================================\n",
      "Dep. Variable:         v_decile_score   R-squared:                       0.446\n",
      "Model:                            OLS   Adj. R-squared:                  0.445\n",
      "Method:                 Least Squares   F-statistic:                     885.9\n",
      "Date:                Mon, 09 Aug 2021   Prob (F-statistic):               0.00\n",
      "Time:                        14:37:02   Log-Likelihood:                -22513.\n",
      "No. Observations:               11027   AIC:                         4.505e+04\n",
      "Df Residuals:                   11016   BIC:                         4.513e+04\n",
      "Df Model:                          10                                         \n",
      "Covariance Type:            nonrobust                                         \n",
      "==============================================================================================\n",
      "                                 coef    std err          t      P>|t|      [0.025      0.975]\n",
      "----------------------------------------------------------------------------------------------\n",
      "Intercept                      7.0754      0.068    103.469      0.000       6.941       7.209\n",
      "C(sex)[T.Male]                 0.5545      0.045     12.458      0.000       0.467       0.642\n",
      "C(race)[T.Asian]              -1.1081      0.258     -4.297      0.000      -1.614      -0.603\n",
      "C(race)[T.Caucasian]          -0.5964      0.041    -14.590      0.000      -0.677      -0.516\n",
      "C(race)[T.Hispanic]           -0.7247      0.065    -11.186      0.000      -0.852      -0.598\n",
      "C(race)[T.Native American]    -0.3414      0.312     -1.094      0.274      -0.953       0.270\n",
      "C(race)[T.Other]              -0.9504      0.080    -11.896      0.000      -1.107      -0.794\n",
      "C(is_recid)[T.1]               0.2968      0.043      6.881      0.000       0.212       0.381\n",
      "C(is_violent_recid)[T.1]       0.4655      0.072      6.464      0.000       0.324       0.607\n",
      "age                           -0.1183      0.002    -75.593      0.000      -0.121      -0.115\n",
      "priors_count                   0.1289      0.004     32.024      0.000       0.121       0.137\n",
      "==============================================================================\n",
      "Omnibus:                      741.119   Durbin-Watson:                   2.003\n",
      "Prob(Omnibus):                  0.000   Jarque-Bera (JB):              896.599\n",
      "Skew:                           0.683   Prob(JB):                    2.02e-195\n",
      "Kurtosis:                       3.290   Cond. No.                         654.\n",
      "==============================================================================\n",
      "\n",
      "Notes:\n",
      "[1] Standard Errors assume that the covariance matrix of the errors is correctly specified.\n"
     ]
    }
   ],
   "source": [
    "# repetimos lo que hemos hecho antes para decile_score pero para v_decile_score \n",
    "\n",
    "fit_v_decile_score = ols('v_decile_score ~ age + priors_count + C(sex) + C(race) + C(is_recid) + C(is_violent_recid)', data=df_reducido).fit() \n",
    "\n",
    "# hemos de escribir C() si la variable es categórica\n",
    "\n",
    "print(fit_v_decile_score.summary())"
   ]
  },
  {
   "cell_type": "code",
   "execution_count": 35,
   "metadata": {},
   "outputs": [
    {
     "name": "stdout",
     "output_type": "stream",
     "text": [
      "Accuracy:  0.8471932529246395\n",
      "PPV:  0.6949152542372882\n",
      "FPR:  0.0019315377186393389\n",
      "FNR:  0.9759953161592506\n",
      "\n"
     ]
    }
   ],
   "source": [
    "vprediccion = fit_v_decile_score.predict(df_reducido)\n",
    "# con este comando se hace una predicción del valor de decile_score a partir de los que hemos indicado antes.\n",
    "\n",
    "# generamos la tabla de contingencia, comparando los casos en los que se predice \n",
    "# un valor mayor que 7, con aquellos en los que realmente es mayor que 7\n",
    "cm = pd.crosstab(vprediccion>=7, df_reducido.v_decile_score>=7, rownames=['prediccion'], colnames=['real'])\n",
    "\n",
    "TN = cm[False][False]   \n",
    "TP = cm[True][True]\n",
    "FN = cm[True][False]\n",
    "FP = cm[False][True]\n",
    "\n",
    "print('Accuracy: ', (TN+TP)/(TN+TP+FN+FP))\n",
    "print('PPV: ', TP / (TP + FP))\n",
    "print('FPR: ', FP / (FP + TN))\n",
    "print('FNR: ', FN / (FN + TP))\n",
    "print()"
   ]
  },
  {
   "cell_type": "code",
   "execution_count": 36,
   "metadata": {},
   "outputs": [
    {
     "name": "stdout",
     "output_type": "stream",
     "text": [
      "              precision    recall  f1-score   support\n",
      "\n",
      "       False       0.85      1.00      0.92      9319\n",
      "        True       0.69      0.02      0.05      1708\n",
      "\n",
      "    accuracy                           0.85     11027\n",
      "   macro avg       0.77      0.51      0.48     11027\n",
      "weighted avg       0.82      0.85      0.78     11027\n",
      "\n"
     ]
    }
   ],
   "source": [
    "# la precisión (accuracy) es ahora del 84.7 %, mejor la que se consigue para los delitos generales\n",
    "\n",
    "from sklearn.metrics import classification_report\n",
    "\n",
    "print(classification_report(df_reducido.v_decile_score>=7, vprediccion>=7))"
   ]
  },
  {
   "cell_type": "code",
   "execution_count": null,
   "metadata": {},
   "outputs": [],
   "source": []
  }
 ],
 "metadata": {
  "kernelspec": {
   "display_name": "Python 3",
   "language": "python",
   "name": "python3"
  },
  "language_info": {
   "codemirror_mode": {
    "name": "ipython",
    "version": 3
   },
   "file_extension": ".py",
   "mimetype": "text/x-python",
   "name": "python",
   "nbconvert_exporter": "python",
   "pygments_lexer": "ipython3",
   "version": "3.8.5"
  }
 },
 "nbformat": 4,
 "nbformat_minor": 5
}
